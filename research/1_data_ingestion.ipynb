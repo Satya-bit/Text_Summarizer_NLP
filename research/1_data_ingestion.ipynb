{
 "cells": [
  {
   "cell_type": "markdown",
   "metadata": {},
   "source": [
    "# Data Ingestion"
   ]
  },
  {
   "cell_type": "code",
   "execution_count": 1,
   "metadata": {},
   "outputs": [
    {
     "data": {
      "text/plain": [
       "'c:\\\\Users\\\\satya\\\\Documents\\\\data_science_roadmap\\\\Generative AI\\\\Text_Summarizer_NLP\\\\research'"
      ]
     },
     "execution_count": 1,
     "metadata": {},
     "output_type": "execute_result"
    }
   ],
   "source": [
    "import os\n",
    "%pwd"
   ]
  },
  {
   "cell_type": "code",
   "execution_count": 2,
   "metadata": {},
   "outputs": [
    {
     "data": {
      "text/plain": [
       "'c:\\\\Users\\\\satya\\\\Documents\\\\data_science_roadmap\\\\Generative AI\\\\Text_Summarizer_NLP'"
      ]
     },
     "execution_count": 2,
     "metadata": {},
     "output_type": "execute_result"
    }
   ],
   "source": [
    "os.chdir(\"../\")\n",
    "%pwd"
   ]
  },
  {
   "cell_type": "markdown",
   "metadata": {},
   "source": [
    "# Basic Configuration"
   ]
  },
  {
   "cell_type": "code",
   "execution_count": 9,
   "metadata": {},
   "outputs": [],
   "source": [
    "from dataclasses import dataclass\n",
    "from pathlib import Path\n",
    "\n",
    "@dataclass\n",
    "class DataIngestionConfig: #Dataclass for data ingestion. \n",
    "    #In order to create what all ouptuts will be there need to create some fields beacuse in \n",
    "    #that fields we will store the values\n",
    "    root_dir: Path\n",
    "    source_url: Path\n",
    "    local_data_file: Path\n",
    "    unzip_dir: Path"
   ]
  },
  {
   "cell_type": "code",
   "execution_count": 10,
   "metadata": {},
   "outputs": [],
   "source": [
    "from src.Text_Summarizer_NLP.constants import * #We will be requiring Config.yaml and params.yaml \n",
    "#before the execution of any modelu(ingestion,validation,training,etc)\n",
    "#\n",
    "from src.Text_Summarizer_NLP.utils.common import read_yaml, create_directories"
   ]
  },
  {
   "cell_type": "markdown",
   "metadata": {},
   "source": [
    "# Configuration Updates"
   ]
  },
  {
   "cell_type": "code",
   "execution_count": 11,
   "metadata": {},
   "outputs": [],
   "source": [
    "class ConfigurationManager: # There are some functionalities in every component like data ingestion, etc\n",
    "    #For example extract the zip file and unzip it and store it in artifacts folder. So all functionalities are defined here\n",
    "    # are written in configuration manager.\n",
    "    def __init__(\n",
    "        self,\n",
    "        config_filepath = CONFIG_FILE_PATH, \n",
    "        params_filepath = PARAMS_FILE_PATH): \n",
    "\n",
    "        self.config = read_yaml(config_filepath)#Reading config file\n",
    "        self.params = read_yaml(params_filepath)#Reading params file\n",
    "\n",
    "        create_directories([self.config.artifacts_root]) #Creating artifacts folder\n",
    "\n",
    "    def get_data_ingestion_config(self) -> DataIngestionConfig: #Reading data ingestion fields and assigning to data_ingestion_config to data ingestion config where the values will be stored\n",
    "        config = self.config.data_ingestion #Reading data ingestion from the config.yaml\n",
    "\n",
    "        create_directories([config.root_dir]) #Creating data_ingestion folder\n",
    "\n",
    "        data_ingestion_config = DataIngestionConfig( #Reading the values from config and assigning it to DataIngestionConfig\n",
    "            root_dir=config.root_dir,\n",
    "            source_url=config.source_url,\n",
    "            local_data_file=config.local_data_file,\n",
    "            unzip_dir=config.unzip_dir \n",
    "        )\n",
    "\n",
    "        return data_ingestion_config\n"
   ]
  },
  {
   "cell_type": "code",
   "execution_count": 12,
   "metadata": {},
   "outputs": [],
   "source": [
    "import os\n",
    "import urllib.request as request\n",
    "import zipfile\n",
    "from src.Text_Summarizer_NLP.logging import logger"
   ]
  },
  {
   "cell_type": "markdown",
   "metadata": {},
   "source": [
    "# Components"
   ]
  },
  {
   "cell_type": "code",
   "execution_count": null,
   "metadata": {},
   "outputs": [],
   "source": [
    "class DataIngestion: #Defining the functionalities of data ingestion\n",
    "    def __init__(self, config: DataIngestionConfig):\n",
    "        self.config = config\n",
    "    def download_file(self):\n",
    "        if not os.path.exists(self.config.local_data_file):\n",
    "            filename, headers = request.urlretrieve(\n",
    "                url = self.config.source_url,\n",
    "                filename = self.config.local_data_file\n",
    "            ) #This will return the filename as data dataset.zip and headers which \n",
    "            #contains content like the size/type of the file \n",
    "            logger.info(f\"Filename downloaded\")\n",
    "        else:\n",
    "            logger.info(f\"File already exists of size\")\n",
    "    def extract_zip_file(self):\n",
    "        \"\"\"\n",
    "        zip_file_path: str\n",
    "        Extracts the zip file into the data directory\n",
    "        Function returns None\n",
    "        \"\"\"\n",
    "        unzip_path = self.config.unzip_dir  #Defining unzip path\n",
    "        os.makedirs(unzip_path, exist_ok=True) #Creating unzip folder\n",
    "        with zipfile.ZipFile(self.config.local_data_file, 'r') as zip_ref:\n",
    "            zip_ref.extractall(unzip_path)"
   ]
  },
  {
   "cell_type": "code",
   "execution_count": 15,
   "metadata": {},
   "outputs": [
    {
     "name": "stdout",
     "output_type": "stream",
     "text": [
      "[2025-02-24 18:56:46,296: INFO: common: yaml file: config\\config.yaml loaded successfully]\n",
      "[2025-02-24 18:56:46,298: INFO: common: yaml file: params.yaml loaded successfully]\n",
      "[2025-02-24 18:56:46,299: INFO: common: created directory at: artifacts]\n",
      "[2025-02-24 18:56:46,301: INFO: common: created directory at: artifacts/data_ingestion]\n",
      "[2025-02-24 18:56:47,693: INFO: 323967639: Filename downloaded]\n"
     ]
    }
   ],
   "source": [
    "config=ConfigurationManager() #Initializing the config manager where the config and \n",
    "#param files will be read  \n",
    "data_ingestion_config=config.get_data_ingestion_config() #It will be assigned to DataIngestionConfig where the values will be stored.\n",
    "data_ingestion=DataIngestion(config=data_ingestion_config) #Initializing the data ingestion and \n",
    "#storing outputs in the paths assigned inside the DataIngestionConfig \n",
    "\n",
    "data_ingestion.download_file() #Downloading the file\n",
    "data_ingestion.extract_zip_file() #Extracting the zip file"
   ]
  },
  {
   "cell_type": "code",
   "execution_count": null,
   "metadata": {},
   "outputs": [],
   "source": []
  }
 ],
 "metadata": {
  "kernelspec": {
   "display_name": "venv",
   "language": "python",
   "name": "python3"
  },
  "language_info": {
   "codemirror_mode": {
    "name": "ipython",
    "version": 3
   },
   "file_extension": ".py",
   "mimetype": "text/x-python",
   "name": "python",
   "nbconvert_exporter": "python",
   "pygments_lexer": "ipython3",
   "version": "3.12.0"
  }
 },
 "nbformat": 4,
 "nbformat_minor": 2
}
